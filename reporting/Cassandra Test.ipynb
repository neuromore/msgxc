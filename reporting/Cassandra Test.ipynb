{
 "cells": [
  {
   "cell_type": "code",
   "execution_count": 9,
   "metadata": {},
   "outputs": [
    {
     "name": "stdout",
     "output_type": "stream",
     "text": [
      "dict_keys(['system_auth', 'system_schema', 'elastic_admin', 'system_distributed', 'system', 'system_traces', 'sfpla'])\n",
      "0 Row(name='DB_VER', seq=2)\n"
     ]
    }
   ],
   "source": [
    "\n",
    "# Tests Cassandra's connectivity\n",
    "# can also run on the cli using jupyter nbconvert --execute Cassandra\\ Test.ipynb\n",
    "\n",
    "from cassandra.cluster import Cluster\n",
    "import cassandra\n",
    "import cassandra.concurrent\n",
    "from ssl import SSLContext, PROTOCOL_TLSv1\n",
    "from cassandra.auth import PlainTextAuthProvider \n",
    "\n",
    "hosts = ['cassandra1']\n",
    "ssl_opts = { 'ca_certs': '/etc/cassandra/rootCa.crt',\n",
    "           'ssl_version': PROTOCOL_TLSv1,\n",
    "           'keyfile': '/etc/cassandra/cassandra-client.key',\n",
    "           'certfile': '/etc/cassandra/cassandra-client.crt' }\n",
    "auth = PlainTextAuthProvider(username='cassandra', password='cassandra')\n",
    "ssl_context = SSLContext(PROTOCOL_TLSv1,ssl_opts=ssl_opts)\n",
    "cluster = Cluster(\n",
    "    auth_provider=auth, \n",
    "    control_connection_timeout=5,\n",
    "    connect_timeout=5, \n",
    "    contact_points=hosts, \n",
    "    port=9042, \n",
    "#    load_balancing_policy=cassandra.policies.WhiteListRoundRobinPolicy(hosts), \n",
    "    ssl_context=ssl_context,\n",
    "#    ssl_opts=ssl_opts, #old version\n",
    ")\n",
    "session = cluster.connect()\n",
    "session.default_timeout = 120.0\n",
    "session.default_fetch_size = 100\n",
    "#session.row_factory = cassandra.query.ordered_dict_factory\n",
    "print(session.cluster.metadata.keyspaces.keys())\n",
    "rows = session.execute('select * from sfpla.sequences')\n",
    "for i, val in enumerate(rows):\n",
    "     print(i, val)\n"
   ]
  },
  {
   "cell_type": "code",
   "execution_count": null,
   "metadata": {},
   "outputs": [],
   "source": []
  }
 ],
 "metadata": {
  "kernelspec": {
   "display_name": "Python 3",
   "language": "python",
   "name": "python3"
  },
  "language_info": {
   "codemirror_mode": {
    "name": "ipython",
    "version": 3
   },
   "file_extension": ".py",
   "mimetype": "text/x-python",
   "name": "python",
   "nbconvert_exporter": "python",
   "pygments_lexer": "ipython3",
   "version": "3.7.7"
  }
 },
 "nbformat": 4,
 "nbformat_minor": 4
}
