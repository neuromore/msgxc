{
 "cells": [
  {
   "cell_type": "code",
   "execution_count": 12,
   "metadata": {},
   "outputs": [
    {
     "name": "stdout",
     "output_type": "stream",
     "text": [
      "('DB_VER', 2)\n",
      "     name  seq\n",
      "0  DB_VER    2\n",
      "1\n",
      "('DB_VER', 2)\n"
     ]
    }
   ],
   "source": [
    "from pyhive import hive\n",
    "conn = hive.Connection(host=\"spark1\", port=10000, username=\"\")\n",
    "\n",
    "cursor = conn.cursor()\n",
    "cursor.execute(\"SELECT * FROM sequences\")\n",
    "for result in cursor.fetchall():\n",
    "    print(result)\n",
    "\n",
    "import pandas as pd\n",
    "df = pd.read_sql(\"SELECT * FROM sequences\", conn)\n",
    "print(df)\n",
    "\n",
    "from sqlalchemy import *\n",
    "from sqlalchemy.engine import create_engine\n",
    "from sqlalchemy.schema import *\n",
    "\n",
    "## Presto\n",
    "##engine = create_engine('presto://localhost:8080/hive/default')\n",
    "\n",
    "# Hive\n",
    "engine = create_engine('hive://10.0.0.5:10000')\n",
    "logs = Table('sequences', MetaData(bind=engine), autoload=True)\n",
    "print(select([func.count('*')], from_obj=logs).scalar())\n",
    "s = logs.select(logs.c.name=='DB_VER')\n",
    "s = logs.select(and_(logs.c.name == 'DB_VER', logs.c.seq == 2))\n",
    "rs = s.execute()\n",
    "row = rs.fetchone()\n",
    "print(row)"
   ]
  },
  {
   "cell_type": "code",
   "execution_count": null,
   "metadata": {},
   "outputs": [],
   "source": []
  }
 ],
 "metadata": {
  "kernelspec": {
   "display_name": "Python 3",
   "language": "python",
   "name": "python3"
  },
  "language_info": {
   "codemirror_mode": {
    "name": "ipython",
    "version": 3
   },
   "file_extension": ".py",
   "mimetype": "text/x-python",
   "name": "python",
   "nbconvert_exporter": "python",
   "pygments_lexer": "ipython3",
   "version": "3.7.7"
  }
 },
 "nbformat": 4,
 "nbformat_minor": 4
}
