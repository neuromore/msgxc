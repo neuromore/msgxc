{
 "cells": [
  {
   "cell_type": "code",
   "execution_count": 3,
   "metadata": {},
   "outputs": [
    {
     "name": "stdout",
     "output_type": "stream",
     "text": [
      "Got 0 Hits:\n"
     ]
    }
   ],
   "source": [
    "\n",
    "# Tests Elastic / Elassandra's connectivity\n",
    "# can also run on the cli using jupyter nbconvert --execute Elastic\\ Test.ipynb\n",
    "\n",
    "from elasticsearch import Elasticsearch\n",
    "es = Elasticsearch([\"cassandra1\",\"cassandra2\"], sniff_on_start=True, sniff_on_connection_fail=True, sniffer_timeout=60)\n",
    "\n",
    "res = es.search(index=\"mthreads\", body={\"query\": {\"match_all\": {}}})\n",
    "print(\"Got %d Hits:\" % res['hits']['total'])\n"
   ]
  },
  {
   "cell_type": "code",
   "execution_count": null,
   "metadata": {},
   "outputs": [],
   "source": []
  }
 ],
 "metadata": {
  "kernelspec": {
   "display_name": "Python 3",
   "language": "python",
   "name": "python3"
  },
  "language_info": {
   "codemirror_mode": {
    "name": "ipython",
    "version": 3
   },
   "file_extension": ".py",
   "mimetype": "text/x-python",
   "name": "python",
   "nbconvert_exporter": "python",
   "pygments_lexer": "ipython3",
   "version": "3.7.7"
  }
 },
 "nbformat": 4,
 "nbformat_minor": 4
}
