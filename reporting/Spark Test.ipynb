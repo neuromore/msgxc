{
 "cells": [
  {
   "cell_type": "code",
   "execution_count": 11,
   "metadata": {},
   "outputs": [
    {
     "name": "stdout",
     "output_type": "stream",
     "text": [
      "root\n",
      " |-- name: string (nullable = true)\n",
      " |-- seq: integer (nullable = true)\n",
      "\n",
      "+------+---+\n",
      "|  name|seq|\n",
      "+------+---+\n",
      "|DB_VER|  2|\n",
      "+------+---+\n",
      "\n"
     ]
    }
   ],
   "source": [
    "import findspark\n",
    "findspark.init('/usr/local/spark')\n",
    "import pyspark\n",
    "import random\n",
    "from pyspark import SparkContext, SparkConf\n",
    "from operator import add\n",
    "conf = SparkConf()\n",
    "conf.set(\"spark.jars\", \"/usr/local/spark/jars/spark-cassandra-connector-2.4.0-s_2.11.jar\")\n",
    "conf.set(\"spark.cores.max\", \"3\")\n",
    "sc = pyspark.SparkContext(appName=\"sfpl\",conf=conf)\n",
    "#data = sc.parallelize(list(\"Hello World\"))\n",
    "#counts = data.map(lambda x: (x, 1)).reduceByKey(add).sortBy(lambda x: x[1], ascending=False).collect()\n",
    "#for (word, count) in counts:\n",
    "#    print(\"{}: {}\".format(word, count))\n",
    "from pyspark.sql import SQLContext\n",
    "sqlContext = SQLContext(sc)\n",
    "users = sqlContext.read.format(\"org.apache.spark.sql.cassandra\").options(table=\"sequences\", keyspace=\"sfpla\").load()\n",
    "users.printSchema()\n",
    "users.show()\n",
    "sc.stop()"
   ]
  }
 ],
 "metadata": {
  "kernelspec": {
   "display_name": "Python 3",
   "language": "python",
   "name": "python3"
  },
  "language_info": {
   "codemirror_mode": {
    "name": "ipython",
    "version": 3
   },
   "file_extension": ".py",
   "mimetype": "text/x-python",
   "name": "python",
   "nbconvert_exporter": "python",
   "pygments_lexer": "ipython3",
   "version": "3.7.7"
  }
 },
 "nbformat": 4,
 "nbformat_minor": 4
}
